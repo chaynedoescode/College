{
 "cells": [
  {
   "cell_type": "markdown",
   "metadata": {},
   "source": [
    "## Lab 2 Exercise 1\n",
    "###### A teacher named Mrs. Rivera who loved making math fun for her students. One day, a student named Mia asked how to calculate powers, like (2^7). Mrs. Rivera explained, “Imagine you need to multiply 2 by itself seven times. We can solve this using a python code utilizing  special method called recursion to solve this,” \n",
    "###### Can you help the class of Mrs. Rivera by providing the recursive method to calculate powers?"
   ]
  },
  {
   "cell_type": "code",
   "execution_count": 1,
   "metadata": {},
   "outputs": [
    {
     "name": "stdout",
     "output_type": "stream",
     "text": [
      "128\n"
     ]
    }
   ],
   "source": [
    "# Recursive function to calculate the power of a number\n",
    "def power(base, exp):\n",
    "    # Base case: any number raised to the power of 0 is 1\n",
    "    if exp == 0:\n",
    "        return 1\n",
    "    else:\n",
    "        # Recursive case: multiply base by the result of base^(exp-1)\n",
    "        return base * power(base, exp - 1)\n",
    "\n",
    "# Input the base and exponent from the user\n",
    "base = int(input(\"Enter the base: \"))\n",
    "exp = int(input(\"Enter the exponent: \"))\n",
    "\n",
    "# Output the result of base^exp\n",
    "print(power(base, exp))\n"
   ]
  },
  {
   "cell_type": "markdown",
   "metadata": {},
   "source": [
    "## Lab 2 Exercise 2\n",
    "###### compute for the cube of integers. "
   ]
  },
  {
   "cell_type": "markdown",
   "metadata": {},
   "source": [
    "Steps:\n",
    "1. Input the size of the array.\n",
    "2. input the elements of the array\n",
    "3. display the cube of each element\n",
    "\n",
    "Sample output\n",
    "\n",
    "Enter the size of the array : 3\n",
    "Enter the elements separated by space: 3 10 20\n",
    "\n",
    "27\n",
    "1000\n",
    "8000\n"
   ]
  },
  {
   "cell_type": "code",
   "execution_count": 1,
   "metadata": {},
   "outputs": [
    {
     "name": "stdout",
     "output_type": "stream",
     "text": [
      "27\n",
      "1000\n",
      "8000\n"
     ]
    }
   ],
   "source": [
    "# Input the size and elements of the list from the user\n",
    "size = int(input(\"Enter the size of the list: \"))\n",
    "elements = input(\"Enter the elements of the list separated by space: \").split()\n",
    "\n",
    "# Function to return a list of cubes of the input elements\n",
    "def power_list(elements):\n",
    "    # Convert each element to an integer and return the cube of each\n",
    "    return [int(element) ** 3 for element in elements]\n",
    "\n",
    "# Get the list of cubed elements\n",
    "powered = power_list(elements)\n",
    "\n",
    "# Print each cubed element\n",
    "for cubed in powered:\n",
    "    print(cubed)\n"
   ]
  },
  {
   "cell_type": "markdown",
   "metadata": {},
   "source": [
    "## Lab 2 Exercise 3\n",
    "#### Generate a hollow square based on the + integer input side length n."
   ]
  },
  {
   "cell_type": "code",
   "execution_count": 1,
   "metadata": {},
   "outputs": [
    {
     "name": "stdout",
     "output_type": "stream",
     "text": [
      "xxxxxx\n",
      "x    x\n",
      "x    x\n",
      "x    x\n",
      "x    x\n",
      "xxxxxx\n"
     ]
    }
   ],
   "source": [
    "# Input the side length for the square\n",
    "length = int(input(\"\\nEnter side length:\"))\n",
    "\n",
    "# Loop to print the square\n",
    "for i in range(length):\n",
    "    # If it's not the first or last row, print 'x' with spaces in between\n",
    "    if i != 0 and i != length - 1:\n",
    "        spaces = \" \" * (length - 2)\n",
    "        print(f\"x{spaces}x\")\n",
    "    else:\n",
    "        # Print a solid line of 'x' for the first and last row\n",
    "        print(\"x\" * length)\n"
   ]
  },
  {
   "cell_type": "markdown",
   "metadata": {},
   "source": [
    "### Lab 2 Exercise 4\n",
    "#### Generate an inverted right triangle of height n."
   ]
  },
  {
   "cell_type": "code",
   "execution_count": 3,
   "metadata": {},
   "outputs": [
    {
     "name": "stdout",
     "output_type": "stream",
     "text": [
      "******\n",
      "*****\n",
      "****\n",
      "***\n",
      "**\n",
      "*\n"
     ]
    }
   ],
   "source": [
    "# Function to print an inverted triangle pattern\n",
    "def inverted_triangle(height):\n",
    "    # Loop from the height down to 1 to create decreasing rows of stars\n",
    "    for i in range(height, 0, -1):\n",
    "        print(\"*\" * i)\n",
    "\n",
    "# Input the height of the triangle from the user\n",
    "height = int(input(\"Enter the height of the triangle: \"))\n",
    "\n",
    "# Print the inverted triangle pattern\n",
    "inverted_triangle(height)\n"
   ]
  }
 ],
 "metadata": {
  "kernelspec": {
   "display_name": ".venv",
   "language": "python",
   "name": "python3"
  },
  "language_info": {
   "codemirror_mode": {
    "name": "ipython",
    "version": 3
   },
   "file_extension": ".py",
   "mimetype": "text/x-python",
   "name": "python",
   "nbconvert_exporter": "python",
   "pygments_lexer": "ipython3",
   "version": "3.6.8"
  }
 },
 "nbformat": 4,
 "nbformat_minor": 2
}
